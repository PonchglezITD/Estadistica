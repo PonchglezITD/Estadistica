{
  "nbformat": 4,
  "nbformat_minor": 0,
  "metadata": {
    "colab": {
      "provenance": [],
      "include_colab_link": true
    },
    "kernelspec": {
      "name": "python3",
      "display_name": "Python 3"
    },
    "language_info": {
      "name": "python"
    }
  },
  "cells": [
    {
      "cell_type": "markdown",
      "metadata": {
        "id": "view-in-github",
        "colab_type": "text"
      },
      "source": [
        "<a href=\"https://colab.research.google.com/github/PonchglezITD/Estadistica/blob/main/Practica1.ipynb\" target=\"_parent\"><img src=\"https://colab.research.google.com/assets/colab-badge.svg\" alt=\"Open In Colab\"/></a>"
      ]
    },
    {
      "cell_type": "markdown",
      "source": [
        "Probabilidad y estadistica\n",
        "\n",
        "Unidad 1\n",
        "\n",
        "practica 1. Estadistica descriptiva basica e histogramas\n",
        "Facilitador: Dr. Jose Gabriel\n",
        "Alumno : Angel Alfonso Gonzalez Garcia"
      ],
      "metadata": {
        "id": "32VIclVaTKAb"
      }
    },
    {
      "cell_type": "code",
      "source": [
        "from statistics import *\n",
        "# Lista de calificaciones de grupo a de probabilidad y estadistica\n",
        "grupoa= [70, 70, 65, 90, 100, 95, 45, 80, 73, 20, 100,96]\n",
        "print (grupoa)"
      ],
      "metadata": {
        "colab": {
          "base_uri": "https://localhost:8080/"
        },
        "id": "96AJEz4VTmL9",
        "outputId": "c76ccb6d-1afc-4e1b-caaf-e25daf29ddc5"
      },
      "execution_count": 1,
      "outputs": [
        {
          "output_type": "stream",
          "name": "stdout",
          "text": [
            "[70, 70, 65, 90, 100, 95, 45, 80, 73, 20, 100, 96]\n"
          ]
        }
      ]
    },
    {
      "cell_type": "code",
      "source": [
        "type (grupoa)"
      ],
      "metadata": {
        "id": "bq7zqg-fUofR",
        "colab": {
          "base_uri": "https://localhost:8080/"
        },
        "outputId": "25f752a9-1cdf-4a74-a3e5-c262039233ab"
      },
      "execution_count": 2,
      "outputs": [
        {
          "output_type": "execute_result",
          "data": {
            "text/plain": [
              "list"
            ]
          },
          "metadata": {},
          "execution_count": 2
        }
      ]
    },
    {
      "cell_type": "code",
      "source": [
        "# determinar la media\n",
        "# la funcion \"len# da la longitud de los datos\n",
        "promedio= sum(grupoa)/ len(grupoa)\n",
        "print (promedio)"
      ],
      "metadata": {
        "colab": {
          "base_uri": "https://localhost:8080/"
        },
        "id": "daiEv8YKUwR-",
        "outputId": "9e92c078-1b3c-45c4-a4b0-3b68b5506fac"
      },
      "execution_count": 3,
      "outputs": [
        {
          "output_type": "stream",
          "name": "stdout",
          "text": [
            "75.33333333333333\n"
          ]
        }
      ]
    },
    {
      "cell_type": "code",
      "source": [
        "#Funcion \"mean\" para calcular el promedio, esta funcion se encuentra en la libreria statistics\n",
        "promedio2= mean(grupoa)\n",
        "print (promedio2)"
      ],
      "metadata": {
        "id": "jYLYS-0MVYhR",
        "colab": {
          "base_uri": "https://localhost:8080/"
        },
        "outputId": "68ca0447-c97d-42e0-92b8-c12c89ba5f2d"
      },
      "execution_count": 4,
      "outputs": [
        {
          "output_type": "stream",
          "name": "stdout",
          "text": [
            "75.33333333333333\n"
          ]
        }
      ]
    },
    {
      "cell_type": "code",
      "source": [
        "# determinar la mediana con la funcion median\n",
        "mediana = median(grupoa)\n",
        "print (mediana)"
      ],
      "metadata": {
        "colab": {
          "base_uri": "https://localhost:8080/"
        },
        "id": "eHvjqZvcV0F3",
        "outputId": "50db0c5d-d982-446b-8d02-7919d69a9b51"
      },
      "execution_count": 5,
      "outputs": [
        {
          "output_type": "stream",
          "name": "stdout",
          "text": [
            "76.5\n"
          ]
        }
      ]
    },
    {
      "cell_type": "code",
      "source": [
        "#  Determinar el vlaor de la moda con la funcion mode\n",
        "moda = mode(grupoa)\n",
        "print (moda)\n"
      ],
      "metadata": {
        "colab": {
          "base_uri": "https://localhost:8080/"
        },
        "id": "NpDgDUCNXVRr",
        "outputId": "7cd4deac-3a0e-4533-89c9-2349b7eae21b"
      },
      "execution_count": 6,
      "outputs": [
        {
          "output_type": "stream",
          "name": "stdout",
          "text": [
            "70\n"
          ]
        }
      ]
    },
    {
      "cell_type": "code",
      "source": [
        "#  En caso de que exista mas de una moda, se puede emplear la funcion multimode para sacar las multiples modas que puedan existir\n",
        "moda2= multimode(grupoa)\n",
        "print (moda2)"
      ],
      "metadata": {
        "colab": {
          "base_uri": "https://localhost:8080/"
        },
        "id": "35W6lsssXrPj",
        "outputId": "d40af76e-c816-491e-e568-55626042cd34"
      },
      "execution_count": 7,
      "outputs": [
        {
          "output_type": "stream",
          "name": "stdout",
          "text": [
            "[70, 100]\n"
          ]
        }
      ]
    },
    {
      "cell_type": "code",
      "source": [
        "# tiempos de 10 alumnos que van a correr 100 metros\n",
        "tiempos100mts= [15.10, 17.20, 14.69, 13.27, 22.15, 18.71, 19.15, 20.65, 15.10, 17.20]\n",
        "# imprimir\n",
        "print (tiempos100mts)"
      ],
      "metadata": {
        "colab": {
          "base_uri": "https://localhost:8080/"
        },
        "id": "OAZ3X5EvYeoZ",
        "outputId": "4e2ba923-1761-44c4-d685-cf330688ad2f"
      },
      "execution_count": 8,
      "outputs": [
        {
          "output_type": "stream",
          "name": "stdout",
          "text": [
            "[15.1, 17.2, 14.69, 13.27, 22.15, 18.71, 19.15, 20.65, 15.1, 17.2]\n"
          ]
        }
      ]
    },
    {
      "cell_type": "code",
      "source": [
        "# Usamos la funcion mean para determinar el tiempo promedio de la lista de valores\n",
        "print (\"El tiempo promedio de los corredores es = \", mean (tiempos100mts))"
      ],
      "metadata": {
        "colab": {
          "base_uri": "https://localhost:8080/"
        },
        "id": "114L4bpZZf79",
        "outputId": "2b5c4b2d-4af3-4f67-9453-f75e6f365eb0"
      },
      "execution_count": 9,
      "outputs": [
        {
          "output_type": "stream",
          "name": "stdout",
          "text": [
            "El tiempo promedio de los corredores es =  17.322\n"
          ]
        }
      ]
    },
    {
      "cell_type": "code",
      "source": [
        "#  Usar la funcion median para sacar la mediana\n",
        "mediana= median( tiempos100mts)\n",
        "print (\"La media de los tiempos de los corredores es de = \", mediana)"
      ],
      "metadata": {
        "id": "U-shIyuXaDlA",
        "colab": {
          "base_uri": "https://localhost:8080/"
        },
        "outputId": "645bf181-4fba-49bd-a4a1-af34232a7370"
      },
      "execution_count": 10,
      "outputs": [
        {
          "output_type": "stream",
          "name": "stdout",
          "text": [
            "La media de los tiempos de los corredores es de =  17.2\n"
          ]
        }
      ]
    },
    {
      "cell_type": "code",
      "source": [
        "# Usar mode para calcular la moda\n",
        "moda = mode(tiempos100mts)\n",
        "print (\"La moda de los tiempos de los corredores es de = \", moda)"
      ],
      "metadata": {
        "colab": {
          "base_uri": "https://localhost:8080/"
        },
        "id": "tixriimFaoZX",
        "outputId": "ee1d8714-9eed-4f91-9e1b-f7965d4ba2b5"
      },
      "execution_count": 11,
      "outputs": [
        {
          "output_type": "stream",
          "name": "stdout",
          "text": [
            "La moda de los tiempos de los corredores es de =  15.1\n"
          ]
        }
      ]
    },
    {
      "cell_type": "code",
      "source": [
        "multimodas = multimode(tiempos100mts)\n",
        "print (\"Las modas de los tiempos son = \", multimodas)"
      ],
      "metadata": {
        "id": "Zz574lzHayKN",
        "colab": {
          "base_uri": "https://localhost:8080/"
        },
        "outputId": "968407fb-bd2a-474b-f3de-28624e86b631"
      },
      "execution_count": 12,
      "outputs": [
        {
          "output_type": "stream",
          "name": "stdout",
          "text": [
            "Las modas de los tiempos son =  [15.1, 17.2]\n"
          ]
        }
      ]
    },
    {
      "cell_type": "code",
      "source": [
        "# libreria para generar numeros aleatorios\n",
        "import random"
      ],
      "metadata": {
        "id": "H2RfF8Z2bVZ1"
      },
      "execution_count": 13,
      "outputs": []
    },
    {
      "cell_type": "code",
      "source": [
        "fabrica1 = []\n",
        "for i in range (100):\n",
        "  numero_aleatorio1 = round( random.uniform(50, 100),2)\n",
        "  fabrica1.append(numero_aleatorio1)\n",
        "print (fabrica1)"
      ],
      "metadata": {
        "colab": {
          "base_uri": "https://localhost:8080/"
        },
        "id": "GfspzMeHbzaG",
        "outputId": "4f10686b-691e-4dc8-c8e5-8f57bb8ff81c"
      },
      "execution_count": 14,
      "outputs": [
        {
          "output_type": "stream",
          "name": "stdout",
          "text": [
            "[96.79, 85.39, 97.33, 93.82, 60.2, 76.08, 95.58, 99.39, 51.39, 64.08, 90.47, 96.83, 92.5, 96.0, 75.97, 76.77, 86.02, 86.91, 72.44, 77.53, 62.89, 60.41, 58.8, 59.98, 61.44, 65.52, 91.18, 69.55, 73.66, 76.56, 95.15, 61.83, 85.94, 57.27, 71.44, 69.35, 62.62, 66.24, 84.72, 97.12, 90.84, 61.72, 52.25, 66.36, 72.67, 94.04, 80.81, 89.96, 54.92, 82.99, 80.4, 59.64, 90.26, 55.29, 51.95, 87.2, 83.42, 91.09, 79.27, 79.6, 95.18, 69.72, 65.56, 72.53, 86.17, 61.27, 53.59, 60.74, 80.04, 52.22, 78.73, 55.85, 96.74, 74.62, 66.38, 89.26, 90.98, 90.58, 83.76, 67.22, 76.01, 82.63, 82.73, 86.62, 85.49, 88.86, 94.99, 70.53, 94.56, 50.73, 77.0, 68.0, 71.34, 82.58, 81.03, 73.4, 70.1, 94.82, 56.98, 90.6]\n"
          ]
        }
      ]
    },
    {
      "cell_type": "code",
      "source": [
        "fabrica2 = []\n",
        "for i in range (100):\n",
        "  numero_aleatorio = round( random.uniform(50, 100),2)\n",
        "  fabrica2.append(numero_aleatorio)\n",
        "print (fabrica2)"
      ],
      "metadata": {
        "colab": {
          "base_uri": "https://localhost:8080/"
        },
        "id": "k2dzJpeldvRb",
        "outputId": "dea3d468-f5fe-468e-fb91-44e3a2dd1901"
      },
      "execution_count": 15,
      "outputs": [
        {
          "output_type": "stream",
          "name": "stdout",
          "text": [
            "[66.47, 52.71, 59.67, 76.02, 72.02, 99.42, 83.8, 71.16, 77.98, 90.98, 61.26, 88.09, 52.3, 78.94, 82.73, 91.98, 52.17, 77.91, 87.32, 53.33, 77.39, 74.6, 91.85, 69.54, 50.83, 87.13, 84.95, 91.15, 63.7, 99.71, 98.98, 60.45, 89.59, 72.79, 85.67, 61.2, 56.16, 92.08, 94.17, 76.11, 85.67, 57.47, 78.7, 96.45, 89.22, 55.65, 85.85, 84.23, 93.02, 66.36, 69.02, 92.82, 84.39, 79.83, 74.43, 99.34, 80.72, 86.45, 57.52, 94.13, 57.12, 88.54, 68.41, 73.88, 59.09, 87.8, 84.71, 88.41, 64.45, 93.56, 91.39, 51.87, 77.87, 69.15, 64.19, 56.13, 90.59, 90.02, 58.88, 98.79, 77.98, 57.74, 61.89, 96.79, 97.44, 77.26, 54.64, 86.4, 54.06, 67.08, 96.56, 66.42, 77.58, 84.58, 68.02, 89.01, 77.88, 70.59, 58.41, 93.01]\n"
          ]
        }
      ]
    },
    {
      "cell_type": "code",
      "source": [
        "# libreria de python\n",
        "import matplotlib.pyplot as plt"
      ],
      "metadata": {
        "id": "E6FqNITqeL9n"
      },
      "execution_count": 16,
      "outputs": []
    },
    {
      "cell_type": "code",
      "source": [
        "plt.hist(fabrica1)\n",
        "plt.title(\"Producción diaria de fabrica 1 \")"
      ],
      "metadata": {
        "colab": {
          "base_uri": "https://localhost:8080/",
          "height": 469
        },
        "id": "5iUYPRG9ePi4",
        "outputId": "f777399c-4e5a-4300-c2da-358c3f067cda"
      },
      "execution_count": 17,
      "outputs": [
        {
          "output_type": "execute_result",
          "data": {
            "text/plain": [
              "Text(0.5, 1.0, 'Producción diaria de fabrica 1 ')"
            ]
          },
          "metadata": {},
          "execution_count": 17
        },
        {
          "output_type": "display_data",
          "data": {
            "text/plain": [
              "<Figure size 640x480 with 1 Axes>"
            ],
            "image/png": "[encoded data removed]"
          },
          "metadata": {}
        }
      ]
    },
    {
      "cell_type": "code",
      "source": [
        "plt.hist(fabrica2)\n",
        "plt.title(\"Producción diaria de fabrica 2 \")"
      ],
      "metadata": {
        "colab": {
          "base_uri": "https://localhost:8080/",
          "height": 469
        },
        "id": "Q5-j-fg4cjmY",
        "outputId": "e62feb32-0525-4030-d011-1fcc872650d5"
      },
      "execution_count": 18,
      "outputs": [
        {
          "output_type": "execute_result",
          "data": {
            "text/plain": [
              "Text(0.5, 1.0, 'Producción diaria de fabrica 2 ')"
            ]
          },
          "metadata": {},
          "execution_count": 18
        },
        {
          "output_type": "display_data",
          "data": {
            "text/plain": [
              "<Figure size 640x480 with 1 Axes>"
            ],
            "image/png": "[encoded data removed]"
          },
          "metadata": {}
        }
      ]
    }
  ]
}